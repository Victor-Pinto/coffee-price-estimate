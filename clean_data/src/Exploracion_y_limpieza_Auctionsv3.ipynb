{
  "cells": [
    {
      "cell_type": "markdown",
      "metadata": {
        "id": "g1SNXzh1toxa"
      },
      "source": [
        "# Dataset clean"
      ]
    },
    {
      "cell_type": "markdown",
      "metadata": {
        "id": "-UlP_FzVuiTz"
      },
      "source": [
        "## Generic functions"
      ]
    },
    {
      "cell_type": "code",
      "execution_count": null,
      "metadata": {
        "id": "46459IQyul0g"
      },
      "outputs": [],
      "source": [
        "import re\n",
        "def verbosity(msj, is_verbosity):\n",
        "  if is_verbosity:\n",
        "    print(msj)\n",
        "\n",
        "def search_str_in_df(df_link, df_col, str_):\n",
        "  return [(link, farm_size) for farm_size, link in zip(df_col, df_link) if type(farm_size)==str and str_ in farm_size]"
      ]
    },
    {
      "cell_type": "markdown",
      "metadata": {
        "id": "yiAt91Djtv-g"
      },
      "source": [
        "## load file"
      ]
    },
    {
      "cell_type": "code",
      "execution_count": null,
      "metadata": {
        "id": "J8lMwRgzV5sM"
      },
      "outputs": [],
      "source": [
        "import pandas as pd\n",
        "\n",
        "file_path = '../data/AuctionsV2.xlsx'\n",
        "\n",
        "try:\n",
        "  global df\n",
        "  df = pd.read_excel(file_path)\n",
        "except FileNotFoundError:\n",
        "  print(f\"Error: File not found at {file_path}\")\n",
        "except Exception as e:\n",
        "  print(f\"An error occurred: {e}\")\n",
        "\n",
        "\n"
      ]
    },
    {
      "cell_type": "code",
      "execution_count": null,
      "metadata": {
        "colab": {
          "base_uri": "https://localhost:8080/",
          "height": 251
        },
        "id": "4lPh1grAXLFy",
        "outputId": "4dd7d0b6-c761-4f5d-c505-d8b157cb31e2"
      },
      "outputs": [],
      "source": [
        "df.head(1)"
      ]
    },
    {
      "cell_type": "code",
      "execution_count": null,
      "metadata": {
        "colab": {
          "base_uri": "https://localhost:8080/",
          "height": 300
        },
        "id": "8dwg8u3MXP6t",
        "outputId": "7e125408-e8bc-4e12-9a03-7560e06c5b6d"
      },
      "outputs": [],
      "source": [
        "df.describe()"
      ]
    },
    {
      "cell_type": "code",
      "execution_count": null,
      "metadata": {
        "colab": {
          "base_uri": "https://localhost:8080/",
          "height": 930
        },
        "id": "QNFSZ8I8XS7X",
        "outputId": "3122ea0e-05ac-411a-ae17-2716fd577b6e"
      },
      "outputs": [],
      "source": [
        "# Order values counts by year\n",
        "df['Year'].value_counts().sort_index()"
      ]
    },
    {
      "cell_type": "code",
      "execution_count": null,
      "metadata": {
        "colab": {
          "base_uri": "https://localhost:8080/",
          "height": 489
        },
        "id": "_nbZNnIlYma7",
        "outputId": "1ea85c60-43cb-4211-e289-dc559097b59f"
      },
      "outputs": [],
      "source": [
        "df['Country'].value_counts()"
      ]
    },
    {
      "cell_type": "code",
      "execution_count": null,
      "metadata": {
        "colab": {
          "base_uri": "https://localhost:8080/",
          "height": 742
        },
        "id": "b4Ray4BfY9hW",
        "outputId": "221346ef-7f8e-4c4f-8dbb-b27adb16166c"
      },
      "outputs": [],
      "source": [
        "\n",
        "df['Farm_Size'].value_counts().head(20)"
      ]
    },
    {
      "cell_type": "code",
      "execution_count": null,
      "metadata": {
        "id": "_t1G-beFZS9J"
      },
      "outputs": [],
      "source": [
        "# Remove \"ha\" from the 'Farm_Size' column\n",
        "df['Farm_Size'] = df['Farm_Size'].str.replace('ha', '', case=False, regex=False)"
      ]
    },
    {
      "cell_type": "code",
      "execution_count": null,
      "metadata": {
        "id": "1W_v5oEcaAUy"
      },
      "outputs": [],
      "source": [
        "# df[df['Farm_Size'].str.contains(\"hectares\")]"
      ]
    },
    {
      "cell_type": "code",
      "execution_count": null,
      "metadata": {
        "id": "KdIpguUBx9j7"
      },
      "outputs": [],
      "source": [
        "df['Farm_Size'] = df['Farm_Size'].str.replace('hectares farm in production', '', case=False)"
      ]
    },
    {
      "cell_type": "code",
      "execution_count": null,
      "metadata": {
        "id": "wSZAeInyauQx"
      },
      "outputs": [],
      "source": [
        "df['Farm_Size'] = df['Farm_Size'].str.replace('-?hec.*', '', case=False, regex=True)"
      ]
    },
    {
      "cell_type": "code",
      "execution_count": null,
      "metadata": {
        "colab": {
          "base_uri": "https://localhost:8080/",
          "height": 387
        },
        "id": "38j94VSuagUH",
        "outputId": "f7ec5803-33e2-4ab2-d685-8987d8d25aaa"
      },
      "outputs": [],
      "source": [
        "df.loc[[4678, 4675]]"
      ]
    },
    {
      "cell_type": "markdown",
      "metadata": {},
      "source": [
        "## remove all totals rows"
      ]
    },
    {
      "cell_type": "code",
      "execution_count": null,
      "metadata": {},
      "outputs": [],
      "source": [
        "\n",
        "def remove_rows_if_condition(condition, index_):\n",
        "    global df\n",
        "    if condition:\n",
        "        print(f\"drop {index_} row\")\n",
        "        df.drop(index=index_, inplace=True)\n",
        "\n",
        "[remove_rows_if_condition((\"totals:\" in str(value_) or \"total\" in str(value_) or \"stat\" in str(value_)), index_) for value_, index_ in zip(df['Rank'], df.index)]\n",
        "df.reset_index(drop=True, inplace=True)\n",
        "df.drop(columns=['Unnamed: 0'], inplace=True)\n",
        "\n"
      ]
    },
    {
      "cell_type": "code",
      "execution_count": null,
      "metadata": {
        "colab": {
          "base_uri": "https://localhost:8080/"
        },
        "id": "yZQrPmM-brGF",
        "outputId": "dd6602e4-8862-47e6-aae3-2def67a33639"
      },
      "outputs": [],
      "source": [
        "is_verbosity = False\n",
        "\n",
        "# Function to clean and convert farm size\n",
        "def clean_farm_size(link, size, index_):\n",
        "  if size == \"-\":\n",
        "    size = None\n",
        "\n",
        "  if pd.isna(size):\n",
        "      return size  # Return NaN values as they are\n",
        "\n",
        "  size = str(size)\n",
        "  \n",
        "  if size == '.':\n",
        "    return None\n",
        "  \n",
        "  if '()' in size:\n",
        "    size = size.replace('()', '')\n",
        "  if ' .' in size:\n",
        "    size = size.replace(' .', '')\n",
        "\n",
        "  if '/' in size:\n",
        "    size = size.split('/')[1]\n",
        "  \n",
        "  if \"m2\" in size or \"m²\" in size or \"metros cuadrados\" in size:\n",
        "    size = size.replace(\"m2\", \"\").replace(\"m²\", \"\").replace(\"metros cuadrados\", \"\")\n",
        "    aux_size = size\n",
        "    size = size.replace(\",\", \".\")\n",
        "    verbosity(f\"size m2 = {size}\", is_verbosity)\n",
        "\n",
        "    try:\n",
        "      if float(size) <100:\n",
        "        size = aux_size.replace(\",\", \"\")\n",
        "\n",
        "      verbosity(f\"Successfull changed size to ha = {float(size) / 10000}\", is_verbosity)\n",
        "      return float(size) / 10000\n",
        "    except ValueError:\n",
        "      verbosity(f\"Error: {ValueError} in size: {size}\", is_verbosity)\n",
        "      return size # Return original string if conversion fails.\n",
        "  \n",
        "  if \"acres\" in size:\n",
        "    size = size.replace(\"acres\", \"\")\n",
        "    aux_size = size\n",
        "    size = size.replace(\",\", \".\")\n",
        "    verbosity(f\"size acres = {size}\", is_verbosity)\n",
        "\n",
        "    try:\n",
        "      verbosity(f\"Successfull changed size to ha = {float(size) * 0.404686}\", is_verbosity)\n",
        "      return float(size) * 0.404686\n",
        "    except ValueError:\n",
        "      verbosity(f\"Error: {ValueError} in size: {size}\", is_verbosity)\n",
        "      return size # Return original string if conversion fails.\n",
        "\n",
        "  if \"patok\" in size:\n",
        "    size = size.replace(\"patok\", \"\")\n",
        "    aux_size = size\n",
        "    size = size.replace(\",\", \".\")\n",
        "    verbosity(f\"size patok = {size}\", is_verbosity)\n",
        "\n",
        "    try:\n",
        "      verbosity(f\"Successfull changed size to ha = {float(size) * 0.1}\", is_verbosity)\n",
        "      return float(size) * 0.1\n",
        "    except ValueError:\n",
        "      verbosity(f\"Error: {ValueError} in size: {size}\", is_verbosity)\n",
        "      return size # Return original string if conversion fails.\n",
        "    \n",
        "  \n",
        "\n",
        "  if \"MANZANAS\" in size or \"mzns\" in size or \"manzanas\" in size or \"mz\" in size:\n",
        "    size = size.replace(\"manzanas\", \"\").replace(\"mzns\", \"\").replace(\"MANZANAS\", \"\").replace(\",\", \"\").replace(\"mz\", \"\")\n",
        "    verbosity(f\"size mzn = {size}\", is_verbosity)\n",
        "    try:\n",
        "      verbosity(f\"Successfull changed size to ha = {float(size) * 0.698896}\", is_verbosity)\n",
        "      return float(size) * 0.698896\n",
        "    except ValueError:\n",
        "      if \"y media\" in size:\n",
        "        size = size.replace(\"y media\", \"\")\n",
        "        try:\n",
        "          verbosity(f\"Successfull changed size to ha = {(float(size)+0.5) * 0.698896}\", is_verbosity)\n",
        "          return (float(size)+0.5) * 0.698896\n",
        "        except ValueError as e:\n",
        "          verbosity(f\"Error: {e} in size: {size}\", is_verbosity)\n",
        "          return size # Return original string if conversion fails.\n",
        "      verbosity(f\"Error: {ValueError} in size: {size}\", is_verbosity)\n",
        "      return size # Return original string if conversion fails.\n",
        "\n",
        "  try:\n",
        "    float(size)\n",
        "  except ValueError as e:\n",
        "    if \",\" in size:\n",
        "      try:\n",
        "        size = size.replace(\",\", \".\")\n",
        "        return size\n",
        "      except:\n",
        "        print(f\"Error: {e} in size: {size}\")\n",
        "        return size\n",
        "\n",
        "    print(f\"Second Error: {e} in size: {size}, index: {index_}, link {link}\")\n",
        "    return size\n",
        "\n",
        "  return size\n",
        "\n",
        "# [(link, value_) for value_, link in zip(df_col, df_link) if not(pd.isna(value_)) and type(float(value_))==float]\n",
        "# Apply the function to the 'Farm_Size' column\n",
        "\n",
        "df['Farm_size_he'] = pd.DataFrame( [clean_farm_size(link, value_, index_) for value_, link, index_ in zip(df['Farm_Size'], df['Url_farm'], df.index)])\n",
        "# df['farm_size_he'] = df['Farm_Size'].apply(clean_farm_size, link=df['Url_farm'])\n",
        "\n",
        "\n"
      ]
    },
    {
      "cell_type": "code",
      "execution_count": null,
      "metadata": {},
      "outputs": [],
      "source": [
        "df.describe(include='all')"
      ]
    },
    {
      "cell_type": "code",
      "execution_count": null,
      "metadata": {
        "colab": {
          "base_uri": "https://localhost:8080/",
          "height": 654
        },
        "id": "y9oHcml5AqMB",
        "outputId": "92e5dcf6-2c37-4b65-d7ab-2866a0200a24"
      },
      "outputs": [],
      "source": [
        "df.head()"
      ]
    },
    {
      "cell_type": "code",
      "execution_count": null,
      "metadata": {
        "colab": {
          "base_uri": "https://localhost:8080/",
          "height": 317
        },
        "id": "f3J6PZiaclqf",
        "outputId": "1f1fde31-204f-42b8-a778-ad5fdd5fa249"
      },
      "outputs": [],
      "source": [
        "def val_float_in_df(df_link, df_col):\n",
        "  return [(link, value_) for value_, link in zip(df_col, df_link) if not(pd.isna(value_)) and type(float(value_))==float]\n",
        "search_str_in_df(df['Url_farm'], df['Farm_size_he'], \"m\")\n",
        "# val_float_in_df(df['Url_farm'], df['Farm_size_he'])"
      ]
    },
    {
      "cell_type": "code",
      "execution_count": null,
      "metadata": {
        "id": "9VglNQUIyFtw"
      },
      "outputs": [],
      "source": [
        "df.to_excel('../data/AuctionsV4.xlsx')"
      ]
    },
    {
      "cell_type": "code",
      "execution_count": null,
      "metadata": {
        "id": "TjiB3TSncoWR"
      },
      "outputs": [],
      "source": [
        "#Revisar caso row 4301\n",
        "df.loc[[4289, 4298,4301]]"
      ]
    },
    {
      "cell_type": "markdown",
      "metadata": {},
      "source": [
        "## Generic functions"
      ]
    },
    {
      "cell_type": "code",
      "execution_count": null,
      "metadata": {
        "id": "UJbgx-HEdIrV"
      },
      "outputs": [],
      "source": [
        "\n",
        "def is_float_data_detection(link, value_, index_, verbosity):\n",
        "    if pd.isna(value_):\n",
        "        return True\n",
        "\n",
        "    value_ = str(value_)\n",
        "\n",
        "    try:\n",
        "        float(value_)\n",
        "        return True\n",
        "    except:\n",
        "        if verbosity:\n",
        "            print(f\"detected non float data {value_} in row {index_}; more information in {link}\")\n",
        "        return False\n",
        "\n",
        "def non_float_data_detection(col_):\n",
        "    [is_float_data_detection(link, value_, index_, True) for value_, link, index_ in zip(df[col_], df['Url_farm'], df.index)]\n",
        "\n",
        "def str_2_float(value_):\n",
        "    try:\n",
        "        value_ = float(value_)\n",
        "        return True, value_\n",
        "    except:\n",
        "        return False, value_\n",
        "\n",
        "\n",
        "def apply_clean_function_to_data(col_, clean_function):\n",
        "    global df\n",
        "    return pd.DataFrame( [clean_function(link, value_, index_) for value_, link, index_ in zip(df[col_], df['Url_farm'], df.index)])\n",
        "\n",
        "def count_number_of_digits(value_):\n",
        "    if type(value_) is float:\n",
        "        value_ = str(value_)\n",
        "    \n",
        "    number_of_digits = len(value_)\n",
        "    if '.' in value_:\n",
        "        number_of_digits = number_of_digits - 3\n",
        "    \n",
        "    return number_of_digits\n",
        "    \n",
        "def replace_value(value_, str_replace, replace_for):\n",
        "    if str_replace in value_:\n",
        "        value_ = value_.replace(str_replace, replace_for)\n",
        "    return value_\n",
        "\n",
        "def detect_abnormal_commas(value_, is_float):\n",
        "\n",
        "    if not(is_float):\n",
        "        patron = re.compile('\\d{1,3}.\\d\\d\\d,\\d\\d') # coincide con una letra, seguida de al menos 1 dígito entre 3 y 5\n",
        "        result = patron.search(value_)\n",
        "\n",
        "        if(result):\n",
        "            value_ = result.group()\n",
        "            value_ = value_.replace('.', '')\n",
        "            value_ = value_.replace(',', '.')\n",
        "            is_float, value_ = str_2_float(value_)\n",
        "            return is_float, value_\n",
        "\n",
        "        patron = re.compile('\\d{1,3},\\d\\d\\d\\.\\d\\d') # coincide con una letra, seguida de al menos 1 dígito entre 3 y 5\n",
        "        result = patron.search(value_)\n",
        "        if(result):\n",
        "            value_ = result.group()\n",
        "            value_ = value_.replace(',', '')\n",
        "            is_float, value_ = str_2_float(value_)\n",
        "            return is_float, value_\n",
        "        \n",
        "        patron = re.compile('\\d{1,3},\\d{1,3}') # coincide con una letra, seguida de al menos 1 dígito entre 3 y 5\n",
        "        result = patron.search(value_)\n",
        "        if(result):\n",
        "            value_ = result.group()\n",
        "            value_ = value_.replace(',', '.')\n",
        "            is_float, value_ = str_2_float(value_)\n",
        "\n",
        "    return is_float, value_\n",
        "\n",
        "def units_conversion(value_, conversion_to_multiplly, unit):\n",
        "    value_ = value_.replace(value_, unit)\n",
        "\n",
        "    try:\n",
        "        value_ = float(value_)\n",
        "        return (value_ * conversion_to_multiplly)\n",
        "        print(f\"se convirtió el valor a {unit} exitosamente\")\n",
        "    except ValueError:\n",
        "        return value_"
      ]
    },
    {
      "cell_type": "code",
      "execution_count": null,
      "metadata": {},
      "outputs": [],
      "source": [
        "\n",
        "cadena = '$20.734,26'\n",
        "patron = re.compile('\\d{1,3}\\.\\d\\d\\d,\\d\\d') # coincide con una letra, seguida de al menos 1 dígito entre 3 y 5\n",
        "result = patron.search(cadena)\n",
        "# result = patron.findall(cadena)\n",
        "if(result):\n",
        "    value_ = result.group()\n",
        "    value_ = value_.replace('.', '')\n",
        "    value_ = value_.replace(',', '.')\n",
        "    print(value_)\n"
      ]
    },
    {
      "cell_type": "code",
      "execution_count": null,
      "metadata": {},
      "outputs": [],
      "source": [
        "\n",
        "cadena = '62,70'\n",
        "\n",
        "patron = re.compile('\\d{1,3},\\d{1,3}') # coincide con una letra, seguida de al menos 1 dígito entre 3 y 5\n",
        "result = patron.search(cadena)\n",
        "# result = patron.findall(cadena)\n",
        "if(result):\n",
        "    value_ = result.group()\n",
        "    value_ = value_.replace(',', '.')\n",
        "    print(value_)\n"
      ]
    },
    {
      "cell_type": "markdown",
      "metadata": {},
      "source": [
        "## clean score lots in table"
      ]
    },
    {
      "cell_type": "code",
      "execution_count": null,
      "metadata": {},
      "outputs": [],
      "source": [
        "def clean_score_lots(link, value_, index_):\n",
        "    is_float = is_float_data_detection(link, value_, index_, False)\n",
        "    if is_float:\n",
        "        return  float(value_)\n",
        "    if (',' in value_) and (not(is_float)):\n",
        "        value_ = value_.replace(',', '.')\n",
        "        is_float, value_ = str_2_float(value_)   \n",
        "    \n",
        "    if is_float:\n",
        "        return  float(value_)\n",
        "    else:\n",
        "        print(f\"detected not float data {value_} in row {index_}; more information in {link}\")\n",
        "        return value_\n",
        "\n",
        "\n",
        "df['Score_v2'] = apply_clean_function_to_data('Score', clean_score_lots)\n",
        "# non_float_data_detection('Score_v2')"
      ]
    },
    {
      "cell_type": "markdown",
      "metadata": {},
      "source": [
        "## clean Total Value"
      ]
    },
    {
      "cell_type": "code",
      "execution_count": null,
      "metadata": {},
      "outputs": [],
      "source": [
        "def clean_total_value(link, value_, index_):\n",
        "    global df\n",
        "    value_ = str(value_)\n",
        "    aux_value_2 = value_\n",
        "    value_ = replace_value(value_, '$', '')\n",
        "    value_ = replace_value(value_, '/lb', '')\n",
        "    value_ = replace_value(value_, '/Ib', '')\n",
        "    value_ = replace_value(value_, 'US', '')\n",
        "    value_ = replace_value(value_, '.              ', '')\n",
        "\n",
        "    is_float = is_float_data_detection(link, value_, index_, False)\n",
        "    \n",
        "    if is_float:\n",
        "        return  float(value_)\n",
        "    \n",
        "    if ('-' in value_) and (not(is_float)):\n",
        "        value_ = None\n",
        "        return value_\n",
        "    if ('–' in value_) and (not(is_float)):\n",
        "        value_ = None\n",
        "        return value_\n",
        "    \n",
        "    is_float, value_ = detect_abnormal_commas(value_, is_float)\n",
        "\n",
        "    if is_float:\n",
        "        if count_number_of_digits(value_) > 3:\n",
        "            # TODO: divide high_bid / weight lb\n",
        "            # print(f\"detected abnormal number: weight lb: {df.loc()[index_]['Weigth_(Lb)']}; weight kg: {df.loc()[index_]['Weigth_(Kg)']};initial value: {aux_value_2}; processed value {value_} in row {index_}; more information in {link}\")\n",
        "            pass\n",
        "\n",
        "        return  float(value_)\n",
        "    else:\n",
        "        print(f\"detected not float data {value_} in row {index_}; more information in {link}\")\n",
        "        return value_\n",
        "\n",
        "df['Total_Value_v2'] = apply_clean_function_to_data('Total_Value', clean_total_value)\n",
        "\n",
        "    "
      ]
    },
    {
      "cell_type": "markdown",
      "metadata": {},
      "source": [
        "## clean weight in table"
      ]
    },
    {
      "cell_type": "code",
      "execution_count": null,
      "metadata": {},
      "outputs": [],
      "source": [
        "def clean_weight(link, value_, index_):\n",
        "    global df\n",
        "\n",
        "    value_lb = value_\n",
        "    value_kg = df.loc[index_]['Weigth_(Kg)']\n",
        "    if value_lb:\n",
        "        value_ = value_lb\n",
        "    else:\n",
        "        value_ = value_kg\n",
        "        units_conversion(value_, 2.20462, 'lbs')\n",
        "        \n",
        "    value_ = str(value_)\n",
        "    aux_value_2 = value_\n",
        "\n",
        "    is_float = is_float_data_detection(link, value_, index_, False)\n",
        "    \n",
        "    if is_float:\n",
        "        return  float(value_)\n",
        "    \n",
        "    if ('-' in value_) and (not(is_float)):\n",
        "        value_ = None\n",
        "        return value_\n",
        "    \n",
        "    is_float, value_ = detect_abnormal_commas(value_, is_float)\n",
        "\n",
        "    if is_float:\n",
        "        if count_number_of_digits(value_) > 4:\n",
        "            print(f\"detected abnormal number: weight lb: {df.loc()[index_]['Weigth_(Lb)']}; weight kg: {df.loc()[index_]['Weigth_(Kg)']};initial value: {aux_value_2}; processed value {value_} in row {index_}; more information in {link}\")\n",
        "            pass\n",
        "\n",
        "        return  float(value_)\n",
        "    else:\n",
        "        print(f\"detected not float data {value_} in row {index_}; more information in {link}\")\n",
        "        return value_\n",
        "\n",
        "df['Weigth_(Lb)_v2'] = apply_clean_function_to_data('Weigth_(Lb)', clean_weight)\n",
        "# non_float_data_detection('Score_v2')"
      ]
    },
    {
      "cell_type": "markdown",
      "metadata": {},
      "source": [
        "## clean Size 30Kg boxes"
      ]
    },
    {
      "cell_type": "code",
      "execution_count": null,
      "metadata": {},
      "outputs": [],
      "source": [
        "def clean_high_bid(link, value_, index_):\n",
        "    global df\n",
        "    value_ = str(value_)\n",
        "    aux_value_2 = value_\n",
        "    # value_ = replace_value(value_, '$', '')\n",
        "    # value_ = replace_value(value_, '/lb', '')\n",
        "    # value_ = replace_value(value_, '/Ib', '')\n",
        "    # value_ = replace_value(value_, 'US', '')\n",
        "\n",
        "    is_float = is_float_data_detection(link, value_, index_, False)\n",
        "    \n",
        "    if is_float:\n",
        "        return  float(value_)\n",
        "    \n",
        "    if ('-' in value_) and (not(is_float)):\n",
        "        value_ = None\n",
        "        return value_\n",
        "    \n",
        "    is_float, value_ = detect_abnormal_commas(value_, is_float)\n",
        "\n",
        "    if is_float:\n",
        "        if count_number_of_digits(value_) > 2:\n",
        "            # TODO: divide high_bid / weight lb\n",
        "            print(f\"SE RECOMIENDA ELIMINAR ESTAS FILAS AL FINAL detected abnormal number: Size 30Kg boxes: {df.loc()[index_]['Size_30Kg_boxes']}; weight kg: {df.loc()[index_]['Weigth_(Kg)']};initial value: {aux_value_2}; processed value {value_} in row {index_}; more information in {link}\")\n",
        "\n",
        "        return  float(value_)\n",
        "    else:\n",
        "        print(f\"detected not float data {value_} in row {index_}; more information in {link}\")\n",
        "        return value_\n",
        "\n",
        "df['Size_30Kg_boxes_v2'] = apply_clean_function_to_data('Size_30Kg_boxes', clean_high_bid)\n",
        "# non_float_data_detection('Score_v2')\n",
        "\n"
      ]
    },
    {
      "cell_type": "markdown",
      "metadata": {},
      "source": [
        "## complete weight Lb"
      ]
    },
    {
      "cell_type": "code",
      "execution_count": null,
      "metadata": {},
      "outputs": [],
      "source": [
        "def complete_weight_lb(link, value_, index_):\n",
        "    global df\n",
        "    weight_lb = df.loc[index_]['Weigth_(Lb)_v2']\n",
        "\n",
        "    size_30kg_boxes_is_float = is_float_data_detection(link, value_, index_, False)\n",
        "\n",
        "    if size_30kg_boxes_is_float:\n",
        "        size_30kg_boxes = float(value_)\n",
        "    else: \n",
        "        return\n",
        "\n",
        "    if pd.isna(weight_lb):\n",
        "        weight_lb = (size_30kg_boxes*132.277)/2\n",
        "        print(f\"used size_30Kb boxes: {value_} to complete weight_(lb): {weight_lb} in row {index_}; more information in {link}\")\n",
        "    \n",
        "    return weight_lb\n",
        "\n",
        "df['Weigth_(Lb)_v2'S] = apply_clean_function_to_data('Size_30Kg_boxes_v2', complete_weight_lb)\n",
        "pass\n",
        "\n",
        "\n"
      ]
    },
    {
      "cell_type": "markdown",
      "metadata": {},
      "source": [
        "## clean high bid in table"
      ]
    },
    {
      "cell_type": "code",
      "execution_count": null,
      "metadata": {},
      "outputs": [],
      "source": [
        "def clean_high_bid(link, value_, index_):\n",
        "    global df\n",
        "    value_ = str(value_)\n",
        "    aux_value_2 = value_\n",
        "    value_ = replace_value(value_, '$', '')\n",
        "    value_ = replace_value(value_, '/lb', '')\n",
        "    value_ = replace_value(value_, '/Ib', '')\n",
        "    value_ = replace_value(value_, 'US', '')\n",
        "\n",
        "    is_float = is_float_data_detection(link, value_, index_, False)\n",
        "    \n",
        "    if is_float:\n",
        "        return  float(value_)\n",
        "    \n",
        "    if ('-' in value_) and (not(is_float)):\n",
        "        value_ = None\n",
        "        return value_\n",
        "    \n",
        "    is_float, value_ = detect_abnormal_commas(value_, is_float)\n",
        "\n",
        "    if is_float:\n",
        "        if count_number_of_digits(value_) > 3:\n",
        "            # TODO: divide high_bid / weight lb\n",
        "            # print(f\"detected abnormal number: weight lb: {df.loc()[index_]['Weigth_(Lb)']}; weight kg: {df.loc()[index_]['Weigth_(Kg)']};initial value: {aux_value_2}; processed value {value_} in row {index_}; more information in {link}\")\n",
        "            pass\n",
        "\n",
        "        return  float(value_)\n",
        "    else:\n",
        "        print(f\"detected not float data {value_} in row {index_}; more information in {link}\")\n",
        "        return value_\n",
        "\n",
        "df['High_Bid_v2'] = apply_clean_function_to_data('High_Bid', clean_high_bid)\n",
        "# non_float_data_detection('Score_v2')"
      ]
    },
    {
      "cell_type": "markdown",
      "metadata": {},
      "source": [
        "## detect abnormal data"
      ]
    },
    {
      "cell_type": "code",
      "execution_count": null,
      "metadata": {},
      "outputs": [],
      "source": [
        "def look_for_abnormal_data(link, value_, index_):\n",
        "\n",
        "    if pd.isna(value_):\n",
        "        return\n",
        "\n",
        "    weight_lb = value_\n",
        "    high_bid = df.loc[index_]['High_Bid_v2']\n",
        "    total_value = df.loc[index_]['Total_Value_v2']\n",
        "\n",
        "    aux_weight_lb = total_value/high_bid\n",
        "    aux_weight_lb = round(aux_weight_lb, 2)\n",
        "    difference = aux_weight_lb-weight_lb\n",
        "    if(difference>1):\n",
        "        print(f\"detected inconsistences in row {index_}; more information in {link}\")\n",
        "     \n",
        "\n",
        "\n",
        "apply_clean_function_to_data('Weigth_(Lb)_v2', look_for_abnormal_data)\n",
        "pass"
      ]
    },
    {
      "cell_type": "markdown",
      "metadata": {},
      "source": [
        "## save all data"
      ]
    },
    {
      "cell_type": "code",
      "execution_count": null,
      "metadata": {},
      "outputs": [],
      "source": [
        "# df.drop(columns=['Weigth_(Kg)'], inplace=True)\n",
        "# df.drop(columns=['Weigth_(Lb)'], inplace=True)\n",
        "# df.drop(columns=['High_Bid'], inplace=True)\n",
        "\n",
        "\n",
        "df.to_excel(\"../data/AuctionsV5.xlsx\", engine='xlsxwriter')\n"
      ]
    },
    {
      "cell_type": "code",
      "execution_count": null,
      "metadata": {},
      "outputs": [],
      "source": []
    }
  ],
  "metadata": {
    "colab": {
      "provenance": []
    },
    "kernelspec": {
      "display_name": "Python 3",
      "name": "python3"
    },
    "language_info": {
      "codemirror_mode": {
        "name": "ipython",
        "version": 3
      },
      "file_extension": ".py",
      "mimetype": "text/x-python",
      "name": "python",
      "nbconvert_exporter": "python",
      "pygments_lexer": "ipython3",
      "version": "3.10.12"
    }
  },
  "nbformat": 4,
  "nbformat_minor": 0
}
