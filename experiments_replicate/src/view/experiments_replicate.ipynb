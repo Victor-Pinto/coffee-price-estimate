{
 "cells": [
  {
   "cell_type": "markdown",
   "metadata": {},
   "source": [
    "# Replicating state-of-the-art experiments"
   ]
  },
  {
   "cell_type": "markdown",
   "metadata": {},
   "source": [
    "## Import libraries"
   ]
  },
  {
   "cell_type": "markdown",
   "metadata": {},
   "source": [
    "### import files"
   ]
  },
  {
   "cell_type": "code",
   "execution_count": null,
   "metadata": {},
   "outputs": [],
   "source": [
    "from typing_extensions import List, Dict\n",
    "\n",
    "\n",
    "import sys\n",
    "sys.path.insert(-1, '../../shared')\n",
    "sys.path.insert(-1, '../model')\n",
    "sys.path.insert(-1, '../controller')\n",
    "\n",
    "from auction_file_operations import XlsxOperations\n",
    "from translator import *\n",
    "from utils import verbosity\n",
    "from coefficients import *\n",
    "\n",
    "\n"
   ]
  },
  {
   "cell_type": "markdown",
   "metadata": {},
   "source": [
    "### import data libraries"
   ]
  },
  {
   "cell_type": "code",
   "execution_count": null,
   "metadata": {},
   "outputs": [],
   "source": [
    "import numpy as np"
   ]
  },
  {
   "cell_type": "markdown",
   "metadata": {},
   "source": [
    "## Father classes"
   ]
  },
  {
   "cell_type": "markdown",
   "metadata": {},
   "source": [
    "### Test translator"
   ]
  },
  {
   "cell_type": "code",
   "execution_count": null,
   "metadata": {},
   "outputs": [],
   "source": [
    "donnet = DonnetTranslator()\n",
    "print(donnet.translate_attribute('Pacamara, Colombia', 'Variety'))\n",
    "\n",
    "# TODO: what if find many attributes?\n",
    "\n",
    "xlsx_operation = XlsxOperations()\n",
    "\n",
    "df = xlsx_operation.load_file(\"ColombianAuctions.xlsx\")"
   ]
  },
  {
   "cell_type": "code",
   "execution_count": null,
   "metadata": {},
   "outputs": [],
   "source": [
    "df.head(2)"
   ]
  },
  {
   "cell_type": "code",
   "execution_count": null,
   "metadata": {},
   "outputs": [],
   "source": [
    "def estimate_price(array_columns):\n",
    "    print(array_columns)\n",
    "    return array_columns\n",
    "array_titles = []"
   ]
  },
  {
   "cell_type": "code",
   "execution_count": null,
   "metadata": {},
   "outputs": [],
   "source": [
    "array_titles = [estimate_price(title)\n",
    "                for title in df.iloc\n",
    "                ]\n",
    "\n",
    "# print(array_titles)\n",
    "# array_data = [estimate_price(row) for row in df[array_titles[1]]]"
   ]
  },
  {
   "cell_type": "code",
   "execution_count": null,
   "metadata": {},
   "outputs": [],
   "source": [
    "# print(df.index.stop)\n",
    "# print(df.keys())\n",
    "# print(df.index.dtype)\n",
    "print(array_titles[0])\n",
    "print([data for data in array_titles[0]])\n",
    "# display(df)"
   ]
  },
  {
   "cell_type": "code",
   "execution_count": null,
   "metadata": {},
   "outputs": [],
   "source": [
    "import math\n",
    "coefficients = DonnetCoefficients()\n",
    "donnet_translator = DonnetTranslator()\n",
    "# print(donnet_translator.translate_attribute('Pacamara, Colombia', 'Variety'))\n",
    "\n",
    "\n",
    "\n",
    "for i in range(len(df)):\n",
    "    sum_coefficients = 0\n",
    "    coefficient_value = 0\n",
    "    for coefficient_name, value in coefficients.get_coefficients().items():\n",
    "        variable_name = value\n",
    "        # print(f'coefficient_name is: {coefficient_name}')\n",
    "        df_value = df.iloc[i][coefficient_name]\n",
    "        # print(f'df_value is: {df_value}')\n",
    "        if(isinstance(value, Dict)):\n",
    "            variable_value_translated = donnet_translator.translate_attribute(df_value, coefficient_name)\n",
    "            # print(f'variable_value_translated: {variable_value_translated}')\n",
    "            coefficient_value = value[variable_value_translated]\n",
    "        else:\n",
    "            coefficient_value = value*df_value\n",
    "        \n",
    "        # print(f'coefficient_value: {coefficient_value}')\n",
    "        sum_coefficients += coefficient_value\n",
    "        \n",
    "        # print('---------------------------------------')\n",
    "    \n",
    "    # print(f\"coefficients sum: {sum_coefficients}\")\n",
    "    \n",
    "    price = math.exp(sum_coefficients)\n",
    "    inverse = math.log(price)\n",
    "    print(f\"price: {price}\")\n",
    "    print(f\"inverse: {inverse}\")\n",
    "    \n",
    "    sum_coefficients = 0\n",
    "    print('_________________________________________________')\n",
    "    print('new_row')        "
   ]
  },
  {
   "cell_type": "code",
   "execution_count": null,
   "metadata": {},
   "outputs": [],
   "source": [
    "dict_translator = {\n",
    "                'First': ['1a', '1b'],\n",
    "                'Second': ['2a', '2b'],\n",
    "                'Third': ['3a', '3b'],\n",
    "                'Fourth': ['4'],\n",
    "            }\n",
    "\n",
    "attribute = '1A'\n",
    "\n",
    "for key, value in dict_translator.items():\n",
    "    if attribute.lower() in value:\n",
    "        print(key)"
   ]
  },
  {
   "cell_type": "code",
   "execution_count": null,
   "metadata": {},
   "outputs": [],
   "source": []
  }
 ],
 "metadata": {
  "kernelspec": {
   "display_name": "_env",
   "language": "python",
   "name": "python3"
  },
  "language_info": {
   "codemirror_mode": {
    "name": "ipython",
    "version": 3
   },
   "file_extension": ".py",
   "mimetype": "text/x-python",
   "name": "python",
   "nbconvert_exporter": "python",
   "pygments_lexer": "ipython3",
   "version": "3.10.12"
  }
 },
 "nbformat": 4,
 "nbformat_minor": 2
}
